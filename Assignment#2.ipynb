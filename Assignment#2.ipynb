{
 "cells": [
  {
   "cell_type": "code",
   "execution_count": 1,
   "metadata": {},
   "outputs": [
    {
     "name": "stdout",
     "output_type": "stream",
     "text": [
      "Enter the marks of English 98\n",
      "Enter the marks of Maths 99\n",
      "Enter the marks of Physics 85\n",
      "Enter the marks of Sindhi 100\n",
      "Enter the marks of Urdu 86\n",
      "Total Marks =  468\n",
      "Your grade is 'A'\n",
      "Percentage: 93.60000000000001\n"
     ]
    }
   ],
   "source": [
    "#Q1\n",
    "subjects = {'English':0,'Maths':0,'Physics':0,'Sindhi':0,'Urdu':0}\n",
    "for i in subjects:\n",
    "    subjects[i] = int(input(\"Enter the marks of \" + i + \" \"))\n",
    "totalmarks = 0\n",
    "for i in subjects:\n",
    "    totalmarks = totalmarks + subjects[i]\n",
    "print(\"Total Marks = \",totalmarks)\n",
    "\n",
    "percen = (totalmarks / 500)*100\n",
    "\n",
    "if(percen>=90):\n",
    "    print(\"Your grade is 'A'\\nPercentage:\",percen)\n",
    "elif(percen>=80 or percen<90):\n",
    "    print(\"Your grade is 'B'\\nPercentage:\",percen)\n",
    "elif(percen>=70 or percen<80):\n",
    "    print(\"Your grade is 'C'\\nPercentage:\",percen)\n",
    "elif(percen>=60 or percen<70):\n",
    "    print(\"Your grade is 'D'\\nPercentage:\",percen)\n",
    "else:\n",
    "    print(\"Your grade is 'F'\\nPercentage:\",percen)"
   ]
  },
  {
   "cell_type": "code",
   "execution_count": 3,
   "metadata": {},
   "outputs": [
    {
     "name": "stdout",
     "output_type": "stream",
     "text": [
      "Enter any number:45\n",
      "You entered 'ODD NUMBER'\n"
     ]
    }
   ],
   "source": [
    "#Q2\n",
    "num = int(input('Enter any number:'))\n",
    "if num%2 ==0:\n",
    "    print(\"You entered 'EVEN NUMBER'\")\n",
    "else:\n",
    "    print(\"You entered 'ODD NUMBER'\")"
   ]
  },
  {
   "cell_type": "code",
   "execution_count": 4,
   "metadata": {},
   "outputs": [
    {
     "name": "stdout",
     "output_type": "stream",
     "text": [
      "Enter any number:54\n",
      "You entered 'EVEN NUMBER'\n"
     ]
    }
   ],
   "source": [
    "#Q2\n",
    "num = int(input('Enter any number:'))\n",
    "if num%2 ==0:\n",
    "    print(\"You entered 'EVEN NUMBER'\")\n",
    "else:\n",
    "    print(\"You entered 'ODD NUMBER'\")"
   ]
  },
  {
   "cell_type": "code",
   "execution_count": 6,
   "metadata": {},
   "outputs": [
    {
     "name": "stdout",
     "output_type": "stream",
     "text": [
      "Length of list is: 11\n"
     ]
    }
   ],
   "source": [
    "#Q3\n",
    "List = [1, 1, 2, 3, 5, 8, 13, 21, 34, 55, 89]\n",
    "lengthList = 0;\n",
    "for i in List:\n",
    "    lengthList = lengthList + 1\n",
    "print(\"Length of list is:\",lengthList)"
   ]
  },
  {
   "cell_type": "code",
   "execution_count": 7,
   "metadata": {},
   "outputs": [
    {
     "name": "stdout",
     "output_type": "stream",
     "text": [
      "Sum of list is: 232\n"
     ]
    }
   ],
   "source": [
    "#Q4\n",
    "List = [1, 1, 2, 3, 5, 8, 13, 21, 34, 55, 89]\n",
    "Sum = 0\n",
    "for i in List:\n",
    "    Sum = Sum + i\n",
    "print(\"Sum of list is:\",Sum)"
   ]
  },
  {
   "cell_type": "code",
   "execution_count": 12,
   "metadata": {},
   "outputs": [
    {
     "name": "stdout",
     "output_type": "stream",
     "text": [
      "Largest number in list is: 5050\n"
     ]
    }
   ],
   "source": [
    "#Q5\n",
    "List = [1000, 1, 2, 3, 5050, 228, 13, 21, 34, 55, 89]\n",
    "largest = 0\n",
    "for i in List:\n",
    "    if i>largest:\n",
    "        largest = i\n",
    "    else:\n",
    "        continue\n",
    "print(\"Largest number in list is:\",largest)"
   ]
  },
  {
   "cell_type": "code",
   "execution_count": 15,
   "metadata": {},
   "outputs": [
    {
     "name": "stdout",
     "output_type": "stream",
     "text": [
      "1\n",
      "1\n",
      "2\n",
      "3\n"
     ]
    }
   ],
   "source": [
    "#Q6\n",
    "a = [1, 1, 2, 3, 5, 8, 13, 21, 34, 55, 89]\n",
    "for i in a:\n",
    "    if i<5:\n",
    "        print(i)\n",
    "    else:\n",
    "        continue"
   ]
  },
  {
   "cell_type": "code",
   "execution_count": null,
   "metadata": {},
   "outputs": [],
   "source": []
  }
 ],
 "metadata": {
  "kernelspec": {
   "display_name": "Python 3",
   "language": "python",
   "name": "python3"
  },
  "language_info": {
   "codemirror_mode": {
    "name": "ipython",
    "version": 3
   },
   "file_extension": ".py",
   "mimetype": "text/x-python",
   "name": "python",
   "nbconvert_exporter": "python",
   "pygments_lexer": "ipython3",
   "version": "3.7.4"
  }
 },
 "nbformat": 4,
 "nbformat_minor": 2
}

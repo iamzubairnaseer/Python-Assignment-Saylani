{
 "cells": [
  {
   "cell_type": "code",
   "execution_count": 1,
   "metadata": {},
   "outputs": [
    {
     "name": "stdout",
     "output_type": "stream",
     "text": [
      "Twinkle, twinkel, little star, \n",
      "\t How I wonder what you are! \n",
      "\t\t Up above the world so high, \n",
      "\t\t Like a diamond in the sky \n",
      " Twinkle, twinkel, little star, \n",
      "\t How I wonder what you are!\n"
     ]
    }
   ],
   "source": [
    "#Q1\n",
    "\n",
    "First_line=\"Twinkle, twinkel, little star,\"\n",
    "Second_line=\"How I wonder what you are!\"\n",
    "Third_line=\"Up above the world so high,\"\n",
    "Fourth_line=\"Like a diamond in the sky\"\n",
    "\n",
    "print(First_line,'\\n\\t',Second_line,'\\n\\t\\t',Third_line,'\\n\\t\\t',Fourth_line,'\\n',First_line,'\\n\\t',Second_line)"
   ]
  },
  {
   "cell_type": "code",
   "execution_count": 2,
   "metadata": {},
   "outputs": [
    {
     "name": "stdout",
     "output_type": "stream",
     "text": [
      "Python Version:\n",
      " 3.7.4 (default, Aug  9 2019, 18:34:13) [MSC v.1915 64 bit (AMD64)]\n"
     ]
    }
   ],
   "source": [
    "#Q2\n",
    "\n",
    "import sys\n",
    "\n",
    "print(\"Python Version:\\n\",sys.version)"
   ]
  },
  {
   "cell_type": "code",
   "execution_count": 3,
   "metadata": {},
   "outputs": [
    {
     "name": "stdout",
     "output_type": "stream",
     "text": [
      "Date:  2019-11-05\n",
      "Time:  21:11:27.317618\n"
     ]
    }
   ],
   "source": [
    "#Q3\n",
    "\n",
    "import datetime\n",
    "\n",
    "function = datetime.datetime.now()\n",
    "\n",
    "print(\"Date: \",function.date())\n",
    "\n",
    "print(\"Time: \",function.time())"
   ]
  },
  {
   "cell_type": "code",
   "execution_count": 4,
   "metadata": {},
   "outputs": [
    {
     "name": "stdout",
     "output_type": "stream",
     "text": [
      "Enter Radius Of Circle: 5\n",
      "Area Of Circle:  78.53981633974483\n"
     ]
    }
   ],
   "source": [
    "#Q4\n",
    "\n",
    "import math\n",
    "\n",
    "radius=float(input(\"Enter Radius Of Circle: \"))\n",
    "area=math.pi*(radius**2)\n",
    "\n",
    "print(\"Area Of Circle: \",area)"
   ]
  },
  {
   "cell_type": "code",
   "execution_count": 5,
   "metadata": {},
   "outputs": [
    {
     "name": "stdout",
     "output_type": "stream",
     "text": [
      "Enter First Name: Zubair\n",
      "Enter Last Name: Naseer\n",
      "Naseer Zubair\n"
     ]
    }
   ],
   "source": [
    "#Q5\n",
    "\n",
    "First_Name=input(\"Enter First Name: \")\n",
    "Last_Name=input(\"Enter Last Name: \")\n",
    "\n",
    "print(Last_Name,First_Name)"
   ]
  },
  {
   "cell_type": "code",
   "execution_count": 6,
   "metadata": {},
   "outputs": [
    {
     "name": "stdout",
     "output_type": "stream",
     "text": [
      "Addition Between Two Numbers\n",
      "First Number = 5\n",
      "Second Number = 5\n",
      "10.0\n"
     ]
    }
   ],
   "source": [
    "#Q6\n",
    "\n",
    "print(\"Addition Between Two Numbers\")\n",
    "\n",
    "num_1=float(input(\"First Number = \"))\n",
    "num_2=float(input(\"Second Number = \"))\n",
    "\n",
    "print(num_1 + num_2)"
   ]
  },
  {
   "cell_type": "code",
   "execution_count": null,
   "metadata": {},
   "outputs": [],
   "source": []
  }
 ],
 "metadata": {
  "kernelspec": {
   "display_name": "Python 3",
   "language": "python",
   "name": "python3"
  },
  "language_info": {
   "codemirror_mode": {
    "name": "ipython",
    "version": 3
   },
   "file_extension": ".py",
   "mimetype": "text/x-python",
   "name": "python",
   "nbconvert_exporter": "python",
   "pygments_lexer": "ipython3",
   "version": "3.7.4"
  }
 },
 "nbformat": 4,
 "nbformat_minor": 2
}

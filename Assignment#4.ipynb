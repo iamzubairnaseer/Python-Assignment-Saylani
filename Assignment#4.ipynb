{
 "cells": [
  {
   "cell_type": "code",
   "execution_count": 3,
   "metadata": {},
   "outputs": [
    {
     "name": "stdout",
     "output_type": "stream",
     "text": [
      "Guess the number:30\n",
      "You guessed greater\n",
      "Try Again!!\n",
      "Guess the number:10\n",
      "You guessed greater\n",
      "Try Again!!\n",
      "Guess the number:5\n",
      "You won!!\n"
     ]
    }
   ],
   "source": [
    "#Q5\n",
    "import random\n",
    "random_num = random.randrange(2,30)\n",
    "for i in range(3):\n",
    "    guess = int(input(\"Guess the number:\"))\n",
    "    \n",
    "    if guess == random_num:\n",
    "        print(\"You won!!\")\n",
    "        break\n",
    "    elif guess > random_num:\n",
    "        print(\"You guessed greater\\nTry Again!!\")\n",
    "    elif guess< random_num:\n",
    "        print(\"You guessed less\\nTry Again!!\")"
   ]
  },
  {
   "cell_type": "code",
   "execution_count": 5,
   "metadata": {},
   "outputs": [
    {
     "name": "stdout",
     "output_type": "stream",
     "text": [
      "One of my favorite books Hello to the future\n"
     ]
    }
   ],
   "source": [
    "#Q4\n",
    "def favorite_book(title):\n",
    "    print(\"One of my favorite books\",title)\n",
    "favorite_book(\"Hello to the future\")"
   ]
  },
  {
   "cell_type": "code",
   "execution_count": 14,
   "metadata": {},
   "outputs": [
    {
     "name": "stdout",
     "output_type": "stream",
     "text": [
      "Information for Karachi\n",
      "country : Pakistan\n",
      "population : 1.9Crores\n",
      "fact : City of Lights\n",
      " \n",
      "Information for Bangkok\n",
      "country : Thailand\n",
      "Population : 8.281 million (2010)\n",
      "fact : Bangkok still has some strange old laws.\n",
      " \n",
      "Information for Los Angeles\n",
      "country : California\n",
      "population : 4 million (2017)\n",
      "fact : Los Ángeles means 'the angels' in Spanish.\n",
      " \n"
     ]
    }
   ],
   "source": [
    "#Q2\n",
    "cities = {\"Karachi\":{\"country\":\"Pakistan\",\"population\":\"1.9Crores\",\"fact\":\"City of Lights\"},\n",
    "          \"Bangkok\":{\"country\":\"Thailand\",\"Population\":\"8.281 million (2010)\",\"fact\":\"Bangkok still has some strange old laws.\"}\n",
    "          ,\"Los Angeles\":{\"country\":\"California\",\"population\":\"4 million (2017)\",\"fact\":\"Los Ángeles means 'the angels' in Spanish.\"}}\n",
    "for city in cities:\n",
    "    print(\"Information for\",city)\n",
    "    for info in cities[city]:\n",
    "        print(info,\":\",cities[city][info])\n",
    "    print(\" \")"
   ]
  },
  {
   "cell_type": "code",
   "execution_count": 1,
   "metadata": {},
   "outputs": [
    {
     "name": "stdout",
     "output_type": "stream",
     "text": [
      "How many tickets you want?3\n",
      "Whats the age of person 12\n",
      "Person  1  is free!!!\n",
      "Whats the age of person 210\n",
      "Charges for Person  2  are $10.\n",
      "Whats the age of person 325\n",
      "Charges for Person  3  are $15.\n"
     ]
    }
   ],
   "source": [
    "#Q3\n",
    "ticket_num = int(input(\"How many tickets you want?\"))\n",
    "for i in range(1,ticket_num+1):\n",
    "    age = int(input('Whats the age of person ' + str(i)))\n",
    "    if age < 3:\n",
    "        print('Person ',i,' is free!!!')\n",
    "    elif age > 3 and age < 12:\n",
    "        print('Charges for Person ',i,' are $10.')\n",
    "    elif age > 12:\n",
    "        print('Charges for Person ',i,' are $15.')"
   ]
  },
  {
   "cell_type": "code",
   "execution_count": 15,
   "metadata": {},
   "outputs": [
    {
     "name": "stdout",
     "output_type": "stream",
     "text": [
      "F_name : Zubair\n",
      "L_name : Naseer\n",
      "age : 19\n",
      "city : Los Angeles\n",
      "{'F_name': 'Zubair', 'L_name': 'Naseer', 'age': 19, 'city': 'Los Angeles', 'Qaulification': 'Secondary'}\n",
      "{'F_name': 'Zubair', 'L_name': 'Naseer', 'age': 19, 'city': 'Los Angeles', 'Qaulification': 'Higer'}\n",
      "{'F_name': 'Zubair', 'L_name': 'Naseer', 'age': 19, 'city': 'Los Angeles'}\n"
     ]
    }
   ],
   "source": [
    "#Q1\n",
    "person = {\"F_name\":\"Zubair\",\"L_name\":\"Naseer\",\"age\":19,\"city\":\"Los Angeles\"}\n",
    "\n",
    "for info in person:\n",
    "    print(info,\":\",person[info])\n",
    "\n",
    "person[\"Qaulification\"] = \"Secondary\"\n",
    "print(person)\n",
    "person[\"Qaulification\"] = \"Higer\"\n",
    "print(person)\n",
    "del person[\"Qaulification\"]\n",
    "print(person)"
   ]
  },
  {
   "cell_type": "code",
   "execution_count": null,
   "metadata": {},
   "outputs": [],
   "source": []
  }
 ],
 "metadata": {
  "kernelspec": {
   "display_name": "Python 3",
   "language": "python",
   "name": "python3"
  },
  "language_info": {
   "codemirror_mode": {
    "name": "ipython",
    "version": 3
   },
   "file_extension": ".py",
   "mimetype": "text/x-python",
   "name": "python",
   "nbconvert_exporter": "python",
   "pygments_lexer": "ipython3",
   "version": "3.7.4"
  }
 },
 "nbformat": 4,
 "nbformat_minor": 2
}

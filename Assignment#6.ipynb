{
 "cells": [
  {
   "cell_type": "code",
   "execution_count": 1,
   "metadata": {},
   "outputs": [
    {
     "name": "stdout",
     "output_type": "stream",
     "text": [
      "Object-oriented programming  refers to a type of\n",
      "computer programming in which programmers define\n",
      "not only the data type of a data structure, but also the types of\n",
      "operations that can be applied to the data structure.\n",
      "\n",
      "There are 4 major principles that make an language Object Oriented are \n",
      "(1) Encapsulation\n",
      "(2) Data Abstraction\n",
      "(3) Polymorphism\n",
      "(4) Inheritance\n"
     ]
    }
   ],
   "source": [
    "#Q1\n",
    "print(\"Object-oriented programming  refers to a type of\\ncomputer programming in which programmers define\\nnot only the data type of a data structure, but also the types of\\noperations that can be applied to the data structure.\")\n",
    "print()\n",
    "print(\"There are 4 major principles that make an language Object Oriented are \\n(1) Encapsulation\\n(2) Data Abstraction\\n(3) Polymorphism\\n(4) Inheritance\")"
   ]
  },
  {
   "cell_type": "code",
   "execution_count": 2,
   "metadata": {},
   "outputs": [
    {
     "name": "stdout",
     "output_type": "stream",
     "text": [
      "List down the Benefits of OOP?\n",
      "\n",
      "(1) Reusability\n",
      "(2) Extensibility\n",
      "(3) Decomposability\n",
      "(4) Composability\n",
      "(5) Understandability\n",
      "(6) Security\n"
     ]
    }
   ],
   "source": [
    "#Q2\n",
    "print(\"List down the Benefits of OOP?\")\n",
    "print()\n",
    "print(\"(1) Reusability\")\n",
    "print(\"(2) Extensibility\")\n",
    "print(\"(3) Decomposability\")\n",
    "print(\"(4) Composability\")\n",
    "print(\"(5) Understandability\")\n",
    "print(\"(6) Security\")"
   ]
  },
  {
   "cell_type": "code",
   "execution_count": 6,
   "metadata": {},
   "outputs": [
    {
     "name": "stdout",
     "output_type": "stream",
     "text": [
      "Differentiate between function and method?\n",
      "\n",
      "Python method is called on an object, unlike a function.Since we call a method on an object, it can access the data within it. A method may alter an object's state.\n",
      "Python function usually only operates on it, and then prints something or returns a value\n"
     ]
    }
   ],
   "source": [
    "#Q3\n",
    "print(\"Differentiate between function and method?\")\n",
    "print()\n",
    "print(\"Python method is called on an object, unlike a function.Since we call a method on an object, it can access the data within it. A method may alter an object's state.\\nPython function usually only operates on it, and then prints something or returns a value\")\n"
   ]
  },
  {
   "cell_type": "code",
   "execution_count": 9,
   "metadata": {},
   "outputs": [
    {
     "name": "stdout",
     "output_type": "stream",
     "text": [
      "Define the following terms:\n",
      "1. Class\n",
      "2. Object\n",
      "3. Attribute\n",
      "4. Behavior\n",
      "\n",
      "class is a template definition of the method s and variable s in a particular kind of object.Thus, an object is a specific instance of a class it contains real values instead of variables.\n",
      "\n",
      "objects are the things you think about first in designing a program and they are also the units of code that are eventually derived from the process. Each object is an instance of a particular class or subclass with the class's own methods or procedures and data variables.\n",
      "\n",
      "\"an attribute is a changeable property or characteristic of\n",
      "some component of a program that can be set to different values. In the\n",
      "Hypertext Markup Language (HTML), an attribute is a characteristic of a\n",
      "page element, such as a font.\n",
      "\n",
      "Behavioral Programming is an approach and technique\n",
      "for software development, which enables incremental development in a\n",
      "natural way. A behavioral application consists of threads of behavior\n",
      "each of which represents an independent scenario that the system should\n",
      "and shouldn't follow.\n"
     ]
    }
   ],
   "source": [
    "#Q4\n",
    "print(\"\"\"Define the following terms:\n",
    "1. Class\n",
    "2. Object\n",
    "3. Attribute\n",
    "4. Behavior\\n\"\"\")\n",
    "print(\"class is a template definition of the method s and variable s in a particular kind of object.Thus, an object is a specific instance of a class it contains real values instead of variables.\\n\")\n",
    "print(\"objects are the things you think about first in designing a program and they are also the units of code that are eventually derived from the process. Each object is an instance of a particular class or subclass with the class's own methods or procedures and data variables.\\n\")\n",
    "print(\"\"\"\"an attribute is a changeable property or characteristic of\n",
    "some component of a program that can be set to different values. In the\n",
    "Hypertext Markup Language (HTML), an attribute is a characteristic of a\n",
    "page element, such as a font.\\n\"\"\")\n",
    "print(\"Behavioral Programming is an approach and technique\\nfor software development, which enables incremental development in a\\nnatural way. A behavioral application consists of threads of behavior\\neach of which represents an independent scenario that the system should\\nand shouldn't follow.\")"
   ]
  },
  {
   "cell_type": "code",
   "execution_count": 10,
   "metadata": {},
   "outputs": [
    {
     "name": "stdout",
     "output_type": "stream",
     "text": [
      "The detail of car is as follows\n",
      "Car Name: Alto\n",
      "Company: Suzuki\n",
      "Model: 2016\n",
      "Color: White\n",
      "Transmission: Manual\n",
      "\n",
      "The detail of car is as follows\n",
      "Car Name: Corolla\n",
      "Company: Toyota\n",
      "Model: 2017\n",
      "Color: Grey\n",
      "Transmission: Automatic\n",
      "\n",
      "The detail of car is as follows\n",
      "Car Name: Mini\n",
      "Company: Tata\n",
      "Model: 2018\n",
      "Color: White\n",
      "Transmission: Semi-automatic\n",
      "\n",
      "The detail of car is as follows\n",
      "Car Name: Picanto\n",
      "Company: Hyundai\n",
      "Model: 2019\n",
      "Color: Black\n",
      "Transmission: Automatic\n",
      "\n",
      "The detail of car is as follows\n",
      "Car Name: Mira\n",
      "Company: Japan Automobile\n",
      "Model: 2019\n",
      "Color: Silver\n",
      "Transmission: Automatic\n",
      "\n"
     ]
    }
   ],
   "source": [
    "class carDetails():\n",
    "    def __init__(self,name,company,model,color,transmission):\n",
    "        self.name = name\n",
    "        self.company = company\n",
    "        self.model = model\n",
    "        self.color = color\n",
    "        self.transmission = transmission\n",
    "\n",
    "alto = carDetails(\"Alto\",\"Suzuki\",\"2016\",\"White\",\"Manual\")\n",
    "print (\"The detail of car is as follows\\nCar Name: \"+alto.name+\"\\nCompany: \"+alto.company+\"\\nModel: \"+alto.model+\"\\nColor: \"+alto.color+\"\\nTransmission: \"+alto.transmission+\"\\n\")\n",
    "car2 = carDetails(\"Corolla\",\"Toyota\",\"2017\",\"Grey\",\"Automatic\")\n",
    "print (\"The detail of car is as follows\\nCar Name: \"+car2.name+\"\\nCompany: \"+car2.company+\"\\nModel: \"+car2.model+\"\\nColor: \"+car2.color+\"\\nTransmission: \"+car2.transmission+\"\\n\")\n",
    "car3 = carDetails(\"Mini\",\"Tata\",\"2018\",\"White\",\"Semi-automatic\")\n",
    "print (\"The detail of car is as follows\\nCar Name: \"+car3.name+\"\\nCompany: \"+car3.company+\"\\nModel: \"+car3.model+\"\\nColor: \"+car3.color+\"\\nTransmission: \"+car3.transmission+\"\\n\")\n",
    "car4 = carDetails(\"Picanto\",\"Hyundai\",\"2019\",\"Black\",\"Automatic\")\n",
    "print (\"The detail of car is as follows\\nCar Name: \"+car4.name+\"\\nCompany: \"+car4.company+\"\\nModel: \"+car4.model+\"\\nColor: \"+car4.color+\"\\nTransmission: \"+car4.transmission+\"\\n\")\n",
    "car5 = carDetails(\"Mira\",\"Japan Automobile\",\"2019\",\"Silver\",\"Automatic\")\n",
    "print (\"The detail of car is as follows\\nCar Name: \"+car5.name+\"\\nCompany: \"+car5.company+\"\\nModel: \"+car5.model+\"\\nColor: \"+car5.color+\"\\nTransmission: \"+car5.transmission+\"\\n\")\n"
   ]
  },
  {
   "cell_type": "code",
   "execution_count": null,
   "metadata": {},
   "outputs": [],
   "source": []
  }
 ],
 "metadata": {
  "kernelspec": {
   "display_name": "Python 3",
   "language": "python",
   "name": "python3"
  },
  "language_info": {
   "codemirror_mode": {
    "name": "ipython",
    "version": 3
   },
   "file_extension": ".py",
   "mimetype": "text/x-python",
   "name": "python",
   "nbconvert_exporter": "python",
   "pygments_lexer": "ipython3",
   "version": "3.7.4"
  }
 },
 "nbformat": 4,
 "nbformat_minor": 2
}

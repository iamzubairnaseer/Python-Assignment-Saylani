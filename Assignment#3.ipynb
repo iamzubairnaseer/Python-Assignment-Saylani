{
 "cells": [
  {
   "cell_type": "code",
   "execution_count": 2,
   "metadata": {},
   "outputs": [
    {
     "name": "stdout",
     "output_type": "stream",
     "text": [
      "Enter the first number:25\n",
      "Enter the second number15\n",
      "Choose the operation you want to perform:\n",
      "'+'\t'-'\t'x'\t'/'\t'*(Power)'\t+\n",
      "25 + 15 = 40\n"
     ]
    }
   ],
   "source": [
    "#Q1\n",
    "num1 = int(input(\"Enter the first number:\"))\n",
    "num2 = int(input(\"Enter the second number\"))\n",
    "operator = input(\"Choose the operation you want to perform:\\n'+'\\t'-'\\t'x'\\t'/'\\t'*(Power)'\\t\")\n",
    "\n",
    "if operator ==\"+\":\n",
    "    ans = num1+num2\n",
    "elif operator ==\"-\":\n",
    "    ans=num1-num2\n",
    "elif operator ==\"x\":\n",
    "    ans = num1*num2\n",
    "elif operator ==\"/\":\n",
    "    ans = num1/num2\n",
    "elif operator ==\"*\":\n",
    "    ans = num1**num2\n",
    "else:\n",
    "    print(\"You didn't choose the correct option\")\n",
    "\n",
    "print(num1,operator,num2,'=',ans)"
   ]
  },
  {
   "cell_type": "code",
   "execution_count": 4,
   "metadata": {},
   "outputs": [
    {
     "name": "stdout",
     "output_type": "stream",
     "text": [
      "45\n",
      "65\n",
      "2.5\n"
     ]
    }
   ],
   "source": [
    "#Q2\n",
    "List = [\"Zubair\",45,\"Naseer\",\"Sir\",65,2.5]\n",
    "for i in List:\n",
    "    if type(i) == int or type(i)==float:\n",
    "        print(i)"
   ]
  },
  {
   "cell_type": "code",
   "execution_count": 5,
   "metadata": {},
   "outputs": [
    {
     "name": "stdout",
     "output_type": "stream",
     "text": [
      "{2: 'Zubair'}\n"
     ]
    }
   ],
   "source": [
    "#Q3\n",
    "Dict = {}\n",
    "Dict[2] = \"Zubair\"\n",
    "print(Dict)"
   ]
  },
  {
   "cell_type": "code",
   "execution_count": 6,
   "metadata": {},
   "outputs": [
    {
     "name": "stdout",
     "output_type": "stream",
     "text": [
      "130.6\n"
     ]
    }
   ],
   "source": [
    "#4\n",
    "Dict = {118:118,114:\"Zubair\",116:\"Ali\",126:12.6}\n",
    "Sum = 0\n",
    "for i in Dict.values():\n",
    "    if type(i) == int or type(i) == float:\n",
    "       Sum+=i\n",
    "print(Sum)"
   ]
  },
  {
   "cell_type": "code",
   "execution_count": 7,
   "metadata": {},
   "outputs": [
    {
     "name": "stdout",
     "output_type": "stream",
     "text": [
      "Found Duplicate: 2\n",
      "Found Duplicate: 4\n"
     ]
    }
   ],
   "source": [
    "#Q5\n",
    "List = [0,1,2,2,3,4,4,6]\n",
    " for i in range(len(List)):\n",
    "    j = List[i]\n",
    "    for k in List[i+1:]:\n",
    "        if j==k:\n",
    "            print('Found Duplicate:',k)\n",
    "\n",
    "    "
   ]
  },
  {
   "cell_type": "code",
   "execution_count": 10,
   "metadata": {},
   "outputs": [
    {
     "name": "stdout",
     "output_type": "stream",
     "text": [
      "Enter the key:126\n",
      "Key already exists!!!\n"
     ]
    }
   ],
   "source": [
    "#Q6\n",
    "Dict = {114:\"Zubair\",115:\"Umer\",118:\"Hamza\",126:\"Faizan\"}\n",
    "\n",
    "key = int(input(\"Enter the key:\"))\n",
    "\n",
    "for i in Dict:\n",
    "    if key == i:\n",
    "        print(\"Key already exists!!!\")"
   ]
  },
  {
   "cell_type": "code",
   "execution_count": null,
   "metadata": {},
   "outputs": [],
   "source": []
  }
 ],
 "metadata": {
  "kernelspec": {
   "display_name": "Python 3",
   "language": "python",
   "name": "python3"
  },
  "language_info": {
   "codemirror_mode": {
    "name": "ipython",
    "version": 3
   },
   "file_extension": ".py",
   "mimetype": "text/x-python",
   "name": "python",
   "nbconvert_exporter": "python",
   "pygments_lexer": "ipython3",
   "version": "3.7.4"
  }
 },
 "nbformat": 4,
 "nbformat_minor": 2
}

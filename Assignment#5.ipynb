{
 "cells": [
  {
   "cell_type": "code",
   "execution_count": 3,
   "metadata": {},
   "outputs": [
    {
     "name": "stdout",
     "output_type": "stream",
     "text": [
      "Factorial of 6 is:  720\n"
     ]
    }
   ],
   "source": [
    "#Q1\n",
    "def factorial(num):\n",
    "    ans = 1\n",
    "    for i in range(1,num+1):\n",
    "       ans = ans*i\n",
    "    print(\"Factorial of\",num,\"is: \",ans)\n",
    "factorial(6)"
   ]
  },
  {
   "cell_type": "code",
   "execution_count": 22,
   "metadata": {},
   "outputs": [
    {
     "name": "stdout",
     "output_type": "stream",
     "text": [
      "HelloToTheFuture contains:\n",
      " 12 lowercase characters and\n",
      " 4 uppercase characters.\n"
     ]
    }
   ],
   "source": [
    "#Q2\n",
    "def checker(string):\n",
    "    lower = 0\n",
    "    upper = 0\n",
    "    for i in string:\n",
    "        if i.islower() == True:\n",
    "            lower=lower+1\n",
    "        else:\n",
    "            upper+=1\n",
    "    print(string+\" contains:\\n\",lower,\"lowercase characters and\\n\",upper,\"uppercase characters.\")\n",
    "checker(\"HelloToTheFuture\")"
   ]
  },
  {
   "cell_type": "code",
   "execution_count": 23,
   "metadata": {},
   "outputs": [
    {
     "name": "stdout",
     "output_type": "stream",
     "text": [
      "0\n",
      "2\n",
      "4\n",
      "6\n",
      "8\n"
     ]
    }
   ],
   "source": [
    "#Q3\n",
    "numbers = [0,1,2,3,4,5,6,7,8,9]\n",
    "for num in numbers:\n",
    "    if num%2 == 0:\n",
    "        print(num)"
   ]
  },
  {
   "cell_type": "code",
   "execution_count": 39,
   "metadata": {},
   "outputs": [
    {
     "name": "stdout",
     "output_type": "stream",
     "text": [
      "Passed string 'madam' is palindrome\n",
      "Passed string 'Zubair' is NOT palindrome\n",
      "Passed string 'laal' is palindrome\n"
     ]
    }
   ],
   "source": [
    "#Q4\n",
    "def palindrome(string):\n",
    "    if string[:] == string[::-1]:\n",
    "        print(\"Passed string '\"+string+\"' is palindrome\")\n",
    "    else:\n",
    "        print(\"Passed string '\"+string+\"' is NOT palindrome\")\n",
    "palindrome(\"madam\")\n",
    "palindrome(\"Zubair\")\n",
    "palindrome(\"laal\")"
   ]
  },
  {
   "cell_type": "code",
   "execution_count": 47,
   "metadata": {},
   "outputs": [
    {
     "name": "stdout",
     "output_type": "stream",
     "text": [
      "7 is prime.\n",
      "6 is not prime.\n",
      "43 is prime.\n",
      "123 is not prime.\n",
      "1031 is prime.\n",
      "124 is not prime.\n"
     ]
    }
   ],
   "source": [
    "#Q5\n",
    "def prime(num):\n",
    "    List=[]\n",
    "    for x in range(1,num+1):\n",
    "        if num%x==0:\n",
    "            List.append(x)\n",
    "    if len(List)==2:\n",
    "        print(num,\"is prime.\")\n",
    "    else:\n",
    "        print(num,\"is not prime.\")\n",
    "prime(7)\n",
    "prime(6)\n",
    "prime(43)\n",
    "prime(123)\n",
    "prime(1031)\n",
    "prime(124)"
   ]
  },
  {
   "cell_type": "code",
   "execution_count": 4,
   "metadata": {},
   "outputs": [
    {
     "name": "stdout",
     "output_type": "stream",
     "text": [
      "You bought: Shirt\n",
      "You bought: Touser\n",
      "You bought: Shoes\n",
      "You bought: Coat\n",
      "You bought: Sweater\n",
      "You bought: Toys\n",
      "You bought: Shirt\n",
      "You bought: Touser\n",
      "You bought: Shoes\n",
      "You bought: Coat\n",
      "You bought: Sweater\n",
      "You bought: Toys\n"
     ]
    }
   ],
   "source": [
    "def cart(*items):\n",
    "    for i in items:\n",
    "        print(\"You bought:\",i)\n",
    "cart(\"Shirt\",\"Touser\",\"Shoes\")\n",
    "cart(\"Coat\")\n",
    "cart(\"Sweater\",\"Toys\")\n",
    "cart(\"Shirt\",\"Touser\",\"Shoes\",\"Coat\",\"Sweater\",\"Toys\")"
   ]
  },
  {
   "cell_type": "code",
   "execution_count": null,
   "metadata": {},
   "outputs": [],
   "source": []
  }
 ],
 "metadata": {
  "kernelspec": {
   "display_name": "Python 3",
   "language": "python",
   "name": "python3"
  },
  "language_info": {
   "codemirror_mode": {
    "name": "ipython",
    "version": 3
   },
   "file_extension": ".py",
   "mimetype": "text/x-python",
   "name": "python",
   "nbconvert_exporter": "python",
   "pygments_lexer": "ipython3",
   "version": "3.7.4"
  }
 },
 "nbformat": 4,
 "nbformat_minor": 2
}
